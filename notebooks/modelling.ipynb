{
 "cells": [
  {
   "cell_type": "markdown",
   "metadata": {},
   "source": [
    "### Imports"
   ]
  },
  {
   "cell_type": "code",
   "execution_count": 1,
   "metadata": {},
   "outputs": [],
   "source": [
    "import mlflow\n",
    "import mlflow.sklearn\n",
    "from sklearn.linear_model import LinearRegression\n",
    "from sklearn.model_selection import train_test_split\n",
    "from sklearn.metrics import mean_squared_error\n",
    "import pandas as pd\n",
    "import numpy as np"
   ]
  },
  {
   "cell_type": "code",
   "execution_count": 2,
   "metadata": {},
   "outputs": [
    {
     "data": {
      "text/plain": [
       "<Experiment: artifact_location='file:///Users/virgilemartin/Documents/ML_OPS/xhec-mlops-project-student/notebooks/mlruns/905557676135735660', creation_time=1729780926873, experiment_id='905557676135735660', last_update_time=1729780926873, lifecycle_stage='active', name='abalone-age-prediction', tags={}>"
      ]
     },
     "execution_count": 2,
     "metadata": {},
     "output_type": "execute_result"
    }
   ],
   "source": [
    "# Set the experiment name\n",
    "mlflow.set_experiment(\"abalone-age-prediction\")"
   ]
  },
  {
   "cell_type": "markdown",
   "metadata": {},
   "source": [
    "### Prepare the Data"
   ]
  },
  {
   "cell_type": "code",
   "execution_count": 3,
   "metadata": {},
   "outputs": [],
   "source": [
    "CATEGORICAL_COLS = [\"Sex\"]\n",
    "\n",
    "# Define RMSE function\n",
    "def root_mean_squared_error(y_true, y_pred):\n",
    "    return np.sqrt(mean_squared_error(y_true, y_pred))\n",
    "\n",
    "\n",
    "# Function to download and prepare the data\n",
    "def prepare_features(url):\n",
    "    # Download and load the dataset\n",
    "    column_names = [\"Sex\", \"Length\", \"Diameter\", \"Height\", \"Whole weight\",\n",
    "                    \"Shucked weight\", \"Viscera weight\", \"Shell weight\", \"Rings\"]\n",
    "    abalone_df = pd.read_csv(url, names=column_names)\n",
    "\n",
    "    # One-hot encode 'Sex' column\n",
    "    abalone_encoded = pd.get_dummies(abalone_df, columns=CATEGORICAL_COLS,\n",
    "                                     drop_first=True)\n",
    "\n",
    "    # Split data into features (X) and target (y)\n",
    "    X = abalone_encoded.drop(columns=[\"Rings\"])\n",
    "    y = abalone_encoded[\"Rings\"]\n",
    "\n",
    "    return X, y"
   ]
  },
  {
   "cell_type": "markdown",
   "metadata": {},
   "source": [
    "### Train the Linear Regression Model"
   ]
  },
  {
   "cell_type": "code",
   "execution_count": 4,
   "metadata": {},
   "outputs": [],
   "source": [
    "# Function to train the model\n",
    "def train_model(X_train, y_train):\n",
    "    # Initialize and train the model\n",
    "    model = LinearRegression()\n",
    "    model.fit(X_train, y_train)\n",
    "    return model"
   ]
  },
  {
   "cell_type": "markdown",
   "metadata": {},
   "source": [
    "### Evaluate the model"
   ]
  },
  {
   "cell_type": "code",
   "execution_count": 5,
   "metadata": {},
   "outputs": [],
   "source": [
    "def evaluate_model(model, X, y):\n",
    "    # Predict the target\n",
    "    y_pred = model.predict(X)\n",
    "\n",
    "    # Calculate RMSE\n",
    "    rmse = root_mean_squared_error(y, y_pred)\n",
    "    return rmse"
   ]
  },
  {
   "cell_type": "markdown",
   "metadata": {},
   "source": [
    "### Track the Experiment with MLflow"
   ]
  },
  {
   "cell_type": "code",
   "execution_count": 6,
   "metadata": {},
   "outputs": [],
   "source": [
    "# MLflow logging function\n",
    "def log_model_to_mlflow(model, X_train, y_train, X_test, y_test):\n",
    "    with mlflow.start_run() as run:\n",
    "        run_id = run.info.run_id\n",
    "\n",
    "        # Set tags\n",
    "        mlflow.set_tag(\"model_type\", \"linear_regression\")\n",
    "        mlflow.set_tag(\"data_version\", \"v1.0\")\n",
    "\n",
    "        # Log model parameters (for LinearRegression, we don't have hyperparameters)\n",
    "\n",
    "        # Evaluate model on training data\n",
    "        train_rmse = evaluate_model(model, X_train, y_train)\n",
    "        mlflow.log_metric(\"train_rmse\", train_rmse)\n",
    "\n",
    "        # Evaluate model on test data\n",
    "        test_rmse = evaluate_model(model, X_test, y_test)\n",
    "        mlflow.log_metric(\"test_rmse\", test_rmse)\n",
    "\n",
    "        # Log the model\n",
    "        mlflow.sklearn.log_model(model, \"linear_regression_model\")\n",
    "\n",
    "        # Optional: register the model to MLflow model registry\n",
    "        mlflow.register_model(\n",
    "            f\"runs:/{run_id}/linear_regression_model\", \"AbaloneAgeModel\"\n",
    "        )\n",
    "\n",
    "        print(f\"Run ID: {run_id}\")\n",
    "        print(f\"Artifact URI: {mlflow.get_artifact_uri()}\")"
   ]
  },
  {
   "cell_type": "code",
   "execution_count": 7,
   "metadata": {},
   "outputs": [
    {
     "name": "stderr",
     "output_type": "stream",
     "text": [
      "2024/10/24 16:45:29 WARNING mlflow.models.model: Model logged without a signature and input example. Please set `input_example` parameter when logging the model to auto infer the model signature.\n"
     ]
    },
    {
     "name": "stdout",
     "output_type": "stream",
     "text": [
      "Run ID: 5c4db84370e142b698e342dff96586f6\n",
      "Artifact URI: file:///Users/virgilemartin/Documents/ML_OPS/xhec-mlops-project-student/notebooks/mlruns/905557676135735660/5c4db84370e142b698e342dff96586f6/artifacts\n"
     ]
    },
    {
     "name": "stderr",
     "output_type": "stream",
     "text": [
      "Successfully registered model 'AbaloneAgeModel'.\n",
      "Created version '1' of model 'AbaloneAgeModel'.\n"
     ]
    }
   ],
   "source": [
    "# Main execution steps\n",
    "if __name__ == \"__main__\":\n",
    "    # Data source URL\n",
    "    url = \"../abalone/abalone.data\"\n",
    "\n",
    "    # Step 1: Prepare features\n",
    "    X, y = prepare_features(url)\n",
    "\n",
    "    # Step 2: Split the data into train and test sets\n",
    "    X_train, X_test, y_train, y_test = train_test_split(X, y, test_size=0.2,\n",
    "                                                        random_state=42)\n",
    "\n",
    "    # Step 3: Train the model\n",
    "    model = train_model(X_train, y_train)\n",
    "\n",
    "    # Step 4: Log model, metrics, and parameters to MLflow\n",
    "    log_model_to_mlflow(model, X_train, y_train, X_test, y_test)"
   ]
  },
  {
   "cell_type": "code",
   "execution_count": 8,
   "metadata": {},
   "outputs": [
    {
     "name": "stdout",
     "output_type": "stream",
     "text": [
      "[2024-10-24 16:53:35 +0200] [11640] [INFO] Starting gunicorn 23.0.0\n",
      "[2024-10-24 16:53:35 +0200] [11640] [INFO] Listening at: http://0.0.0.0:5002 (11640)\n",
      "[2024-10-24 16:53:35 +0200] [11640] [INFO] Using worker: sync\n",
      "[2024-10-24 16:53:35 +0200] [11641] [INFO] Booting worker with pid: 11641\n",
      "[2024-10-24 16:53:35 +0200] [11642] [INFO] Booting worker with pid: 11642\n",
      "[2024-10-24 16:53:35 +0200] [11643] [INFO] Booting worker with pid: 11643\n",
      "[2024-10-24 16:53:35 +0200] [11644] [INFO] Booting worker with pid: 11644\n",
      "^C\n",
      "[2024-10-24 16:54:20 +0200] [11640] [INFO] Handling signal: int\n",
      "[2024-10-24 16:54:20 +0200] [11643] [INFO] Worker exiting (pid: 11643)\n",
      "[2024-10-24 16:54:20 +0200] [11644] [INFO] Worker exiting (pid: 11644)\n",
      "[2024-10-24 16:54:20 +0200] [11641] [INFO] Worker exiting (pid: 11641)\n",
      "[2024-10-24 16:54:20 +0200] [11642] [INFO] Worker exiting (pid: 11642)\n"
     ]
    }
   ],
   "source": [
    "!mlflow ui --host 0.0.0.0 --port 5002"
   ]
  },
  {
   "cell_type": "code",
   "execution_count": null,
   "metadata": {},
   "outputs": [],
   "source": []
  }
 ],
 "metadata": {
  "kernelspec": {
   "display_name": "xhec-mlops-env",
   "language": "python",
   "name": "python3"
  },
  "language_info": {
   "codemirror_mode": {
    "name": "ipython",
    "version": 3
   },
   "file_extension": ".py",
   "mimetype": "text/x-python",
   "name": "python",
   "nbconvert_exporter": "python",
   "pygments_lexer": "ipython3",
   "version": "3.9.20"
  },
  "orig_nbformat": 4
 },
 "nbformat": 4,
 "nbformat_minor": 2
}
